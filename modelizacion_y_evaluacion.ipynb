{
 "cells": [
  {
   "cell_type": "markdown",
   "metadata": {},
   "source": [
    "La fase de modelizacion consiste en crear uno o más modelos permitiendo realizar la tarea determinada en la etapa del Business understanding.\n",
    "Para la fase de preparación de datos vimos que se necesitan dos conjuntos de datos: el dataset de entrenamiento y el de testeo. En esta etapa surge la necesidad de un tercer subconjunto que surge de subdividir el dataset de entrenamiento: el dataset de validación.\n",
    "Una variación a la creación del conjunto de validación es el 'cross-validation' o validación cruzada. Consiste en crear varias separaciones entrenamiento-validación y analizar los resultados medios obtenidos. Las dos formas más conocidas de hacer cross-validation son:\n",
    "- K-fold: La muestra es dividida en k-conjuntos. Cada conjunto será sucesivamente utilizado como conjunto de validación y, los k-1 conjuntos restantes, como conjuntos de entrenamiento.\n",
    "- Leave-one-out (LOOCV): un solo dato es retirado del conjunto de entrenamiento para testear la validacion. El aprendizaje es luego re-hecho tantas veces coomo haya datos proveidos, excluyendo uno cada vez\n",
    "\n",
    "Para la preparación de datasets, Scikit-learn no acepta más que parámetros numéricos, por lo que los parámetros de otro tipo deben ser transformados"
   ]
  }
 ],
 "metadata": {
  "language_info": {
   "name": "python"
  }
 },
 "nbformat": 4,
 "nbformat_minor": 2
}
