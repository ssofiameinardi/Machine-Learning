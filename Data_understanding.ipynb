{
 "cells": [
  {
   "cell_type": "markdown",
   "metadata": {},
   "source": [
    "La fase del Data Understanding contiene tres etapas:\n",
    "- La carta de identidad del o de los datasets\n",
    "- La description de los campos\n",
    "- El análisis estadístico de cada campo\n",
    "\n",
    "Una vez que los datos son cargados, la siguiente etapa consiste en crear la carta de identidad del dataset. Esta incluye:\n",
    "    - El nombre del dataset\n",
    "    - Su proveniencia: fuente de los datos y la fecha de extracción. En funcion de esta informacion, la calidad de los datos y su correspondencia\n",
    "    con la tarea de machine learning para hacer pueden ser puestas en duda.\n",
    "    - Su tamaño: permite asegurarse que todos los datos sean considerados al momento de hacer nuevas cargas. Se necesita indicar cantidad de registros,\n",
    "    cantidad de atributos y el peso del archivo de ser necesario.\n",
    "    - Su formateo: permite comprender mejor la estructura del archivo para facilitar su carga si este debiera ser hecho de vuelta posteriormente.\n",
    "    - La descripción empresarial de los datos: Permite comprender a qué corresponden los datos y su vinculo con el problema a resolver.\n",
    "\n",
    "Decripcion de los campos: Generalmente se hace en forma de tabla. Consiste en darla a cada variable:\n",
    "    - Nombre\n",
    "    - Tipo\n",
    "    - Formato\n",
    "    - Descripcion: qué es lo que la variable indica exactamente.\n",
    "    - Unidad\n",
    "    - La presencia o no de datos faltantes\n",
    "    - Limites esperados\n",
    "\n",
    "Análisis estadístico de cada campo: Existen cuatro tipos de datos: Nominales(sin orden especifico), oridnales, continuos, discretos(algunos valores son aceptados). Para cada variable, se deberá producir dos tipos de información: un analisis estadistico (tablas o textos) y una visualizacion de los datos.\n",
    "Las herramientas a utilizar dependeran del tipo de dato:\n",
    "    - Datos numericos: Su estudio consiste en definir indicadores de tendencia central (media y mediana) y de dispersion a la vez (minimo, maximo, desviacion estándar, varianza y cuartiles) [mean, median, min, max, std, var, quantile --> respectivamente en Pandas]\n",
    "    - Datos categóricos: su principal indicador es la moda.\n",
    "\n",
    "SUS MÉTODOS PUEDEN SER REVISADOS EN EL MATERIAL EN CASO DE SER NECESARIO. \n",
    "\n"
   ]
  }
 ],
 "metadata": {
  "language_info": {
   "name": "python"
  }
 },
 "nbformat": 4,
 "nbformat_minor": 2
}
