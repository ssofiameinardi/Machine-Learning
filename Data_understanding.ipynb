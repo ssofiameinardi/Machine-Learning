{
 "cells": [
  {
   "cell_type": "markdown",
   "metadata": {},
   "source": [
    "La fase del Data Understanding contiene tres etapas:\n",
    "- La carta de identidad del o de los datasets\n",
    "- La description de los campos\n",
    "- El análisis estadístico de cada campo"
   ]
  }
 ],
 "metadata": {
  "language_info": {
   "name": "python"
  }
 },
 "nbformat": 4,
 "nbformat_minor": 2
}
