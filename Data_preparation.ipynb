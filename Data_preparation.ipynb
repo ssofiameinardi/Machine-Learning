{
 "cells": [
  {
   "cell_type": "markdown",
   "metadata": {},
   "source": [
    "Funciones utiles\n",
    "Drop(): Para eliminar columnas\n",
    "Dropna(axis, condicion): Para eliminar lineas (axis = 0) o columnas (axis = 1). Condicion: 'any' para las lineas que tienen al menos un valor nulo, 'all' para aquellos que tienen todos los valores nulos o subset para elegir una categoria (subset = ['age'] --> borra todos las lineas con valor nulo en edad)\n",
    "\n",
    "Separar los datasets: uno de entrenamiento y uno de testeo.\n",
    "Métodos para separar:\n",
    "    - Por proporción\n",
    "    - Separación aleatoria\n",
    "    - Separación en capas: el dataset es separado anteriormente según el valor de una variable, después cada una de esas categorías será separada según el indice deseado\n",
    "\n",
    "Para tratar los datos faltantes, hay varias estrategias:\n",
    "    - Eliminar la columna señalada\n",
    "    - Eliminar las lineas que contienen valores nulos\n",
    "    - Reemplazar los valores faltantes con algún valor decidido anticipadamente\n",
    "\n",
    "Preparar los atributos numéricos:\n",
    "    - Validacion de datos: semantica y estadisticamente\n",
    "    - Feature engineering: crear nuevos datos a partir de aquellos ya existentes\n",
    "    - Discretizacion: transformar un dato numerico en uno de categoría\n",
    "    - Normalizacion: Volver a traer los datos en intervalos para compararlos mejor. Para algunos algoritmos, la normalizacion es un pre requisito.\n"
   ]
  }
 ],
 "metadata": {
  "language_info": {
   "name": "python"
  }
 },
 "nbformat": 4,
 "nbformat_minor": 2
}
